{
 "cells": [
  {
   "cell_type": "code",
   "execution_count": 141,
   "metadata": {},
   "outputs": [],
   "source": [
    "import pandas as pd\n",
    "import matplotlib.pyplot as plt\n",
    "import seaborn as sns\n",
    "import numpy as np"
   ]
  },
  {
   "cell_type": "code",
   "execution_count": null,
   "metadata": {},
   "outputs": [],
   "source": [
    "%run ..\\notebooks\\01_eda.ipynb"
   ]
  },
  {
   "cell_type": "markdown",
   "metadata": {},
   "source": [
    "## Impute Missing Values"
   ]
  },
  {
   "cell_type": "code",
   "execution_count": 143,
   "metadata": {},
   "outputs": [],
   "source": [
    "train_df_2 = train_df.copy()\n",
    "test_df_2 = test_df.copy()"
   ]
  },
  {
   "cell_type": "code",
   "execution_count": 144,
   "metadata": {},
   "outputs": [
    {
     "name": "stdout",
     "output_type": "stream",
     "text": [
      "              n_miss  ratio\n",
      "PoolQC          1453  99.52\n",
      "MiscFeature     1406  96.30\n",
      "Alley           1369  93.77\n",
      "Fence           1179  80.75\n",
      "MasVnrType       872  59.73\n",
      "FireplaceQu      690  47.26\n",
      "LotFrontage      259  17.74\n",
      "GarageType        81   5.55\n",
      "GarageYrBlt       81   5.55\n",
      "GarageFinish      81   5.55\n",
      "GarageQual        81   5.55\n",
      "GarageCond        81   5.55\n",
      "BsmtExposure      38   2.60\n",
      "BsmtFinType2      38   2.60\n",
      "BsmtQual          37   2.53\n",
      "BsmtCond          37   2.53\n",
      "BsmtFinType1      37   2.53\n",
      "MasVnrArea         8   0.55\n",
      "Electrical         1   0.07\n",
      "              n_miss  ratio\n",
      "PoolQC          1456  99.79\n",
      "MiscFeature     1408  96.50\n",
      "Alley           1352  92.67\n",
      "Fence           1169  80.12\n",
      "MasVnrType       894  61.27\n",
      "FireplaceQu      730  50.03\n",
      "LotFrontage      227  15.56\n",
      "GarageQual        78   5.35\n",
      "GarageCond        78   5.35\n",
      "GarageYrBlt       78   5.35\n",
      "GarageFinish      78   5.35\n",
      "GarageType        76   5.21\n",
      "BsmtCond          45   3.08\n",
      "BsmtQual          44   3.02\n",
      "BsmtExposure      44   3.02\n",
      "BsmtFinType1      42   2.88\n",
      "BsmtFinType2      42   2.88\n",
      "MasVnrArea        15   1.03\n",
      "MSZoning           4   0.27\n",
      "Functional         2   0.14\n",
      "BsmtFullBath       2   0.14\n",
      "Utilities          2   0.14\n",
      "BsmtHalfBath       2   0.14\n",
      "Exterior1st        1   0.07\n",
      "Exterior2nd        1   0.07\n",
      "TotalBsmtSF        1   0.07\n",
      "BsmtUnfSF          1   0.07\n",
      "BsmtFinSF2         1   0.07\n",
      "BsmtFinSF1         1   0.07\n",
      "KitchenQual        1   0.07\n",
      "GarageArea         1   0.07\n",
      "GarageCars         1   0.07\n",
      "SaleType           1   0.07\n"
     ]
    }
   ],
   "source": [
    "missing_train_df_2 = missing_values_table(train_df_2)\n",
    "missing_test_df_2 = missing_values_table(test_df_2)"
   ]
  },
  {
   "cell_type": "code",
   "execution_count": 145,
   "metadata": {},
   "outputs": [],
   "source": [
    "def impute_missing_values(df):\n",
    "    # Define imputation strategies\n",
    "    impute_dict = {\n",
    "        \"None\": [\"PoolQC\", \"MiscFeature\", \"Alley\", \"Fence\", \"MasVnrType\", \n",
    "                 \"FireplaceQu\", \"GarageType\", \"GarageQual\", \"GarageCond\", \n",
    "                 \"BsmtExposure\", \"BsmtFinType2\", \"BsmtQual\", \"BsmtCond\", \"BsmtFinType1\"],\n",
    "        0: [\"GarageFinish\", \"BsmtFullBath\", \"BsmtHalfBath\", \"BsmtUnfSF\",\n",
    "            \"BsmtFinSF1\", \"BsmtFinSF2\", \"TotalBsmtSF\", \"GarageCars\", \"GarageArea\"],\n",
    "        \"mode\": [\"Electrical\", \"MSZoning\", \"Utilities\", \"Functional\", \n",
    "                 \"Exterior2nd\", \"Exterior1st\", \"KitchenQual\", \"SaleType\"],\n",
    "        \"median\": [\"LotFrontage\"]\n",
    "    }\n",
    "\n",
    "    # Apply these strategies by iterating dict items. (Ex: value = \"None\", columns = [\"PoolQC\", ..., \"BsmtFinType1\"])\n",
    "    for value, columns in impute_dict.items():\n",
    "        if value == \"None\":\n",
    "            for col in columns:\n",
    "                df[col] = df[col].fillna(\"Not have\")\n",
    "        elif value == 0:\n",
    "            for col in columns:\n",
    "                df[col] = df[col].fillna(0)\n",
    "        elif value == \"mode\":\n",
    "            for col in columns:\n",
    "                df[col] = df[col].fillna(df[col].mode()[0])\n",
    "        elif value == \"median\":\n",
    "            for col in columns:\n",
    "                df[col] = df[col].fillna(df[col].median())\n",
    "                \n",
    "    df.loc[df[\"GarageType\"] == \"Not have\", \"GarageYrBlt\"] = 0\n",
    "    df[\"GarageYrBlt\"] = df[\"GarageYrBlt\"].fillna(df[\"GarageYrBlt\"].median())\n",
    "    \n",
    "    df.loc[df[\"MasVnrType\"] == \"Not have\", \"MasVnrArea\"] == 0\n",
    "    df[\"MasVnrArea\"] = df[\"MasVnrArea\"].fillna(df[\"MasVnrArea\"].median())\n",
    "                \n",
    "    return df"
   ]
  },
  {
   "cell_type": "code",
   "execution_count": 146,
   "metadata": {},
   "outputs": [],
   "source": [
    "train_df_2 = impute_missing_values(train_df_2)\n",
    "test_df_2 = impute_missing_values(test_df_2)"
   ]
  },
  {
   "cell_type": "code",
   "execution_count": 147,
   "metadata": {},
   "outputs": [
    {
     "name": "stdout",
     "output_type": "stream",
     "text": [
      "Empty DataFrame\n",
      "Columns: [n_miss, ratio]\n",
      "Index: []\n",
      "Empty DataFrame\n",
      "Columns: [n_miss, ratio]\n",
      "Index: []\n"
     ]
    }
   ],
   "source": [
    "missing_train_df_2 = missing_values_table(train_df_2)\n",
    "missing_test_df_2 = missing_values_table(test_df_2)"
   ]
  },
  {
   "cell_type": "code",
   "execution_count": null,
   "metadata": {},
   "outputs": [],
   "source": []
  }
 ],
 "metadata": {
  "kernelspec": {
   "display_name": "myenv",
   "language": "python",
   "name": "python3"
  },
  "language_info": {
   "codemirror_mode": {
    "name": "ipython",
    "version": 3
   },
   "file_extension": ".py",
   "mimetype": "text/x-python",
   "name": "python",
   "nbconvert_exporter": "python",
   "pygments_lexer": "ipython3",
   "version": "3.13.2"
  }
 },
 "nbformat": 4,
 "nbformat_minor": 2
}
